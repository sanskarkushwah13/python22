{
  "nbformat": 4,
  "nbformat_minor": 0,
  "metadata": {
    "colab": {
      "private_outputs": true,
      "provenance": [],
      "authorship_tag": "ABX9TyNVwwaYgGFtB3OTkLqJw0cB",
      "include_colab_link": true
    },
    "kernelspec": {
      "name": "python3",
      "display_name": "Python 3"
    },
    "language_info": {
      "name": "python"
    }
  },
  "cells": [
    {
      "cell_type": "markdown",
      "metadata": {
        "id": "view-in-github",
        "colab_type": "text"
      },
      "source": [
        "<a href=\"https://colab.research.google.com/github/sanskarkushwah13/python22/blob/main/stock.ipynb\" target=\"_parent\"><img src=\"https://colab.research.google.com/assets/colab-badge.svg\" alt=\"Open In Colab\"/></a>"
      ]
    },
    {
      "cell_type": "code",
      "execution_count": null,
      "metadata": {
        "id": "JdUUht-MoVT_"
      },
      "outputs": [],
      "source": [
        "from nsepy import get_history\n",
        "from datetime import date\n",
        "\n",
        "# Get historical stock data for the month of January 2015\n",
        "data = get_history(symbol=\"SBIN\", start=date(2015,1,1), end=date(2015,1,31))\n",
        "\n",
        "# Print the historical stock data\n",
        "print(data)\n"
      ]
    },
    {
      "cell_type": "code",
      "source": [
        "import requests\n",
        "from bs4 import BeautifulSoup\n",
        "response = requests.get(\"https://www.nseindia.com\")\n"
      ],
      "metadata": {
        "id": "9wiRYenMo424"
      },
      "execution_count": null,
      "outputs": []
    },
    {
      "cell_type": "code",
      "source": [
        "soup = BeautifulSoup(response.text, 'html.parser')\n",
        "stock_data_table = soup.find('table', id='stockdata')\n",
        "stock_data_rows = stock_data_table.find_all('tr')\n"
      ],
      "metadata": {
        "id": "DgtvKZHSpFXs"
      },
      "execution_count": null,
      "outputs": []
    },
    {
      "cell_type": "code",
      "source": [
        "stock_data = []\n",
        "for row in stock_data_rows:\n",
        "    stock_data.append({\n",
        "        'stock': row.find('td', class_='board_name').text.strip(),\n",
        "        'price': row.find('td', class_='board_price').text.strip(),\n",
        "        'change': row.find('td', class_='board_change').text.strip(),\n",
        "        'percentage_change': row.find('td', class_='board_pc').text.strip()\n",
        "    })\n"
      ],
      "metadata": {
        "id": "JImT2HLkpJ2l"
      },
      "execution_count": null,
      "outputs": []
    },
    {
      "cell_type": "code",
      "source": [
        "import pandas as pd\n",
        "\n",
        "data = pd.DataFrame(stock_data)\n",
        "data.to_csv('stock_data.csv', index=False)\n"
      ],
      "metadata": {
        "id": "ANOezNbZpM-g"
      },
      "execution_count": null,
      "outputs": []
    }
  ]
}